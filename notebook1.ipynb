{
 "cells": [
  {
   "cell_type": "code",
   "execution_count": 1,
   "id": "increasing-nomination",
   "metadata": {
    "id": "82d0b8ff-540d-4325-95e6-258370eb0488",
    "tags": []
   },
   "outputs": [
    {
     "name": "stdout",
     "output_type": "stream",
     "text": [
      "Hello, world!\n"
     ]
    }
   ],
   "source": [
    "print(\"Hello, world!\")"
   ]
  },
  {
   "cell_type": "code",
   "execution_count": null,
   "id": "modular-creation",
   "metadata": {
    "id": "19c6823d-fab5-41f4-b7b6-d3bf9b0b0ce8"
   },
   "outputs": [],
   "source": [
    "print(\"Hello, Chicago!\")"
   ]
  }
 ],
 "metadata": {
  "kernelspec": {
   "display_name": "Python 3.9",
   "language": "python",
   "name": "python3"
  },
  "language_info": {
   "codemirror_mode": {
    "name": "ipython",
    "version": 3
   },
   "file_extension": ".py",
   "mimetype": "text/x-python",
   "name": "python",
   "nbconvert_exporter": "python",
   "pygments_lexer": "ipython3",
   "version": "3.9.7"
  }
 },
 "nbformat": 4,
 "nbformat_minor": 5
}
